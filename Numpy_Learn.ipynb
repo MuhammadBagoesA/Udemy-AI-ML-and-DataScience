{
 "cells": [
  {
   "cell_type": "code",
   "execution_count": 1,
   "id": "0a18a384-b6ed-43c2-accb-d10e08bc81fc",
   "metadata": {},
   "outputs": [],
   "source": [
    "import numpy as np"
   ]
  },
  {
   "cell_type": "markdown",
   "id": "e518cabb-a86f-45c2-8917-3b8585fbf776",
   "metadata": {},
   "source": [
    "## Datatypes and Attributes"
   ]
  },
  {
   "cell_type": "code",
   "execution_count": 21,
   "id": "35852906-c0ee-400f-a898-f826ef8f6be3",
   "metadata": {},
   "outputs": [
    {
     "data": {
      "text/plain": [
       "array([1, 2, 3])"
      ]
     },
     "execution_count": 21,
     "metadata": {},
     "output_type": "execute_result"
    }
   ],
   "source": [
    "a1 = np.array([1,2,3])\n",
    "a1"
   ]
  },
  {
   "cell_type": "code",
   "execution_count": 22,
   "id": "6f5662a4-8941-40c9-acd1-fafb630a229f",
   "metadata": {},
   "outputs": [],
   "source": [
    "a2 = np.array([[1, 2.0, 3.3],\n",
    "               [3, 5, 6.5]])\n",
    "\n",
    "a3 = np.array([[[1, 2, 3],\n",
    "                [4, 5, 6],\n",
    "                [7, 8, 9]],\n",
    "               [[10, 11, 12],\n",
    "                [13, 14, 15],\n",
    "                [16, 17, 18]]])"
   ]
  },
  {
   "cell_type": "code",
   "execution_count": 5,
   "id": "458583b8-7288-4f90-baf5-8f90afad775d",
   "metadata": {},
   "outputs": [
    {
     "data": {
      "text/plain": [
       "array([[1. , 2. , 3.3],\n",
       "       [3. , 5. , 6.5]])"
      ]
     },
     "execution_count": 5,
     "metadata": {},
     "output_type": "execute_result"
    }
   ],
   "source": [
    "a2"
   ]
  },
  {
   "cell_type": "code",
   "execution_count": 6,
   "id": "19018fe8-e610-4361-b123-152729f7bcd0",
   "metadata": {},
   "outputs": [
    {
     "data": {
      "text/plain": [
       "array([[[ 1,  2,  3],\n",
       "        [ 4,  5,  6],\n",
       "        [ 7,  8,  9]],\n",
       "\n",
       "       [[10, 11, 12],\n",
       "        [13, 14, 15],\n",
       "        [16, 17, 18]]])"
      ]
     },
     "execution_count": 6,
     "metadata": {},
     "output_type": "execute_result"
    }
   ],
   "source": [
    "a3"
   ]
  },
  {
   "cell_type": "code",
   "execution_count": 7,
   "id": "23f0316e-0dce-462a-be95-047896249476",
   "metadata": {},
   "outputs": [
    {
     "data": {
      "text/plain": [
       "(3,)"
      ]
     },
     "execution_count": 7,
     "metadata": {},
     "output_type": "execute_result"
    }
   ],
   "source": [
    "a1.shape"
   ]
  },
  {
   "cell_type": "code",
   "execution_count": 8,
   "id": "d7b7e0be-0b60-4543-9bd5-e6709b8dbb6e",
   "metadata": {},
   "outputs": [
    {
     "data": {
      "text/plain": [
       "(2, 3)"
      ]
     },
     "execution_count": 8,
     "metadata": {},
     "output_type": "execute_result"
    }
   ],
   "source": [
    "a2.shape"
   ]
  },
  {
   "cell_type": "code",
   "execution_count": 9,
   "id": "d89cd349-84c3-4d6c-bba4-e57c50251668",
   "metadata": {},
   "outputs": [
    {
     "data": {
      "text/plain": [
       "(2, 3, 3)"
      ]
     },
     "execution_count": 9,
     "metadata": {},
     "output_type": "execute_result"
    }
   ],
   "source": [
    "a3.shape"
   ]
  },
  {
   "cell_type": "code",
   "execution_count": 12,
   "id": "35f74255-ef58-41ec-9293-4ed0a7d1f4b6",
   "metadata": {},
   "outputs": [
    {
     "data": {
      "text/plain": [
       "(1, 2, 3)"
      ]
     },
     "execution_count": 12,
     "metadata": {},
     "output_type": "execute_result"
    }
   ],
   "source": [
    "a1.ndim, a2.ndim, a3.ndim#banyak dimensi"
   ]
  },
  {
   "cell_type": "code",
   "execution_count": 13,
   "id": "c86b7b23-5de9-4eef-a536-5303b2f61847",
   "metadata": {},
   "outputs": [
    {
     "data": {
      "text/plain": [
       "dtype('int32')"
      ]
     },
     "execution_count": 13,
     "metadata": {},
     "output_type": "execute_result"
    }
   ],
   "source": [
    "a1.dtype"
   ]
  },
  {
   "cell_type": "code",
   "execution_count": 15,
   "id": "28dd899d-33de-406b-93a6-16ba345c2d33",
   "metadata": {},
   "outputs": [
    {
     "data": {
      "text/plain": [
       "(3, 6, 18)"
      ]
     },
     "execution_count": 15,
     "metadata": {},
     "output_type": "execute_result"
    }
   ],
   "source": [
    "a1.size, a2.size, a3.size # banyak elemen yang dimiliki"
   ]
  },
  {
   "cell_type": "code",
   "execution_count": 16,
   "id": "7566159e-cbbc-4989-b3b1-e903495e1ef4",
   "metadata": {},
   "outputs": [
    {
     "data": {
      "text/plain": [
       "(numpy.ndarray, numpy.ndarray, numpy.ndarray)"
      ]
     },
     "execution_count": 16,
     "metadata": {},
     "output_type": "execute_result"
    }
   ],
   "source": [
    "type(a1), type(a2), type(a3)"
   ]
  },
  {
   "cell_type": "code",
   "execution_count": 6,
   "id": "38f73247-e560-4934-885a-7f506c74f076",
   "metadata": {},
   "outputs": [],
   "source": [
    "import pandas as pd"
   ]
  },
  {
   "cell_type": "code",
   "execution_count": 21,
   "id": "2bed8862-b4e9-4ba0-af2e-ceadaa6e164d",
   "metadata": {},
   "outputs": [
    {
     "data": {
      "text/html": [
       "<div>\n",
       "<style scoped>\n",
       "    .dataframe tbody tr th:only-of-type {\n",
       "        vertical-align: middle;\n",
       "    }\n",
       "\n",
       "    .dataframe tbody tr th {\n",
       "        vertical-align: top;\n",
       "    }\n",
       "\n",
       "    .dataframe thead th {\n",
       "        text-align: right;\n",
       "    }\n",
       "</style>\n",
       "<table border=\"1\" class=\"dataframe\">\n",
       "  <thead>\n",
       "    <tr style=\"text-align: right;\">\n",
       "      <th></th>\n",
       "      <th>0</th>\n",
       "      <th>1</th>\n",
       "      <th>2</th>\n",
       "    </tr>\n",
       "  </thead>\n",
       "  <tbody>\n",
       "    <tr>\n",
       "      <th>0</th>\n",
       "      <td>1.0</td>\n",
       "      <td>2.0</td>\n",
       "      <td>3.3</td>\n",
       "    </tr>\n",
       "    <tr>\n",
       "      <th>1</th>\n",
       "      <td>3.0</td>\n",
       "      <td>5.0</td>\n",
       "      <td>6.5</td>\n",
       "    </tr>\n",
       "  </tbody>\n",
       "</table>\n",
       "</div>"
      ],
      "text/plain": [
       "     0    1    2\n",
       "0  1.0  2.0  3.3\n",
       "1  3.0  5.0  6.5"
      ]
     },
     "execution_count": 21,
     "metadata": {},
     "output_type": "execute_result"
    }
   ],
   "source": [
    "df = pd.DataFrame(a2) #harus 2 dimensi\n",
    "df"
   ]
  },
  {
   "cell_type": "code",
   "execution_count": 23,
   "id": "5c3ae54a-b30f-48bd-b3ed-ac916057fc6f",
   "metadata": {},
   "outputs": [
    {
     "data": {
      "text/html": [
       "<div>\n",
       "<style scoped>\n",
       "    .dataframe tbody tr th:only-of-type {\n",
       "        vertical-align: middle;\n",
       "    }\n",
       "\n",
       "    .dataframe tbody tr th {\n",
       "        vertical-align: top;\n",
       "    }\n",
       "\n",
       "    .dataframe thead th {\n",
       "        text-align: right;\n",
       "    }\n",
       "</style>\n",
       "<table border=\"1\" class=\"dataframe\">\n",
       "  <thead>\n",
       "    <tr style=\"text-align: right;\">\n",
       "      <th></th>\n",
       "      <th>0</th>\n",
       "    </tr>\n",
       "  </thead>\n",
       "  <tbody>\n",
       "    <tr>\n",
       "      <th>0</th>\n",
       "      <td>1</td>\n",
       "    </tr>\n",
       "    <tr>\n",
       "      <th>1</th>\n",
       "      <td>2</td>\n",
       "    </tr>\n",
       "    <tr>\n",
       "      <th>2</th>\n",
       "      <td>3</td>\n",
       "    </tr>\n",
       "  </tbody>\n",
       "</table>\n",
       "</div>"
      ],
      "text/plain": [
       "   0\n",
       "0  1\n",
       "1  2\n",
       "2  3"
      ]
     },
     "execution_count": 23,
     "metadata": {},
     "output_type": "execute_result"
    }
   ],
   "source": [
    "dx = pd.DataFrame(a1)\n",
    "dx"
   ]
  },
  {
   "cell_type": "code",
   "execution_count": 25,
   "id": "27b4d8bd-8e4b-447f-8f1f-6729e467d6d4",
   "metadata": {},
   "outputs": [
    {
     "data": {
      "text/plain": [
       "array([1, 2, 3])"
      ]
     },
     "execution_count": 25,
     "metadata": {},
     "output_type": "execute_result"
    }
   ],
   "source": [
    "sample = np.array([1, 2, 3])\n",
    "sample"
   ]
  },
  {
   "cell_type": "code",
   "execution_count": 26,
   "id": "adc600a4-e782-481c-a07f-db2d13b96837",
   "metadata": {},
   "outputs": [],
   "source": [
    "ones = np.ones((2,4))"
   ]
  },
  {
   "cell_type": "code",
   "execution_count": 27,
   "id": "fe15e321-6ba1-483f-b522-34508eb7d961",
   "metadata": {},
   "outputs": [
    {
     "data": {
      "text/plain": [
       "array([[1., 1., 1., 1.],\n",
       "       [1., 1., 1., 1.]])"
      ]
     },
     "execution_count": 27,
     "metadata": {},
     "output_type": "execute_result"
    }
   ],
   "source": [
    "ones"
   ]
  },
  {
   "cell_type": "code",
   "execution_count": 28,
   "id": "ce8b0475-e1fa-4177-a922-7dbb51d2a827",
   "metadata": {},
   "outputs": [],
   "source": [
    "zero = np.zeros((4,2))"
   ]
  },
  {
   "cell_type": "code",
   "execution_count": 29,
   "id": "4b3e0dbe-eb81-4e1b-9598-6695cd1add8d",
   "metadata": {},
   "outputs": [
    {
     "data": {
      "text/plain": [
       "array([[0., 0.],\n",
       "       [0., 0.],\n",
       "       [0., 0.],\n",
       "       [0., 0.]])"
      ]
     },
     "execution_count": 29,
     "metadata": {},
     "output_type": "execute_result"
    }
   ],
   "source": [
    "zero"
   ]
  },
  {
   "cell_type": "code",
   "execution_count": 30,
   "id": "a4c3259b-7e59-4d7a-8372-f20ed0fc3b2c",
   "metadata": {},
   "outputs": [
    {
     "data": {
      "text/plain": [
       "array([0, 2, 4, 6, 8])"
      ]
     },
     "execution_count": 30,
     "metadata": {},
     "output_type": "execute_result"
    }
   ],
   "source": [
    "range =  np.arange(0, 10, 2)\n",
    "range"
   ]
  },
  {
   "cell_type": "code",
   "execution_count": 33,
   "id": "4660a833-a9a9-4089-99ca-b064e09de628",
   "metadata": {},
   "outputs": [
    {
     "data": {
      "text/plain": [
       "array([[45, 33, 56],\n",
       "       [75, 49, 62],\n",
       "       [97, 37, 60],\n",
       "       [40, 69, 76],\n",
       "       [86, 49, 93]])"
      ]
     },
     "execution_count": 33,
     "metadata": {},
     "output_type": "execute_result"
    }
   ],
   "source": [
    "random = np.random.randint(0, 100, size = (5,3))\n",
    "random"
   ]
  },
  {
   "cell_type": "code",
   "execution_count": 13,
   "id": "fd12dcbd-13c8-4c45-b9f7-53c123a462d3",
   "metadata": {},
   "outputs": [
    {
     "data": {
      "text/plain": [
       "array([[0.26455561, 0.77423369, 0.45615033],\n",
       "       [0.56843395, 0.0187898 , 0.6176355 ],\n",
       "       [0.61209572, 0.616934  , 0.94374808],\n",
       "       [0.6818203 , 0.3595079 , 0.43703195],\n",
       "       [0.6976312 , 0.06022547, 0.66676672]])"
      ]
     },
     "execution_count": 13,
     "metadata": {},
     "output_type": "execute_result"
    }
   ],
   "source": [
    "random2 = np.random.random((5, 3))\n",
    "random2"
   ]
  },
  {
   "cell_type": "code",
   "execution_count": 18,
   "id": "4a9bf46c-8bdd-4750-9a79-8fccc0b13547",
   "metadata": {},
   "outputs": [
    {
     "data": {
      "text/plain": [
       "array([[0.5488135 , 0.71518937, 0.60276338],\n",
       "       [0.54488318, 0.4236548 , 0.64589411],\n",
       "       [0.43758721, 0.891773  , 0.96366276],\n",
       "       [0.38344152, 0.79172504, 0.52889492],\n",
       "       [0.56804456, 0.92559664, 0.07103606]])"
      ]
     },
     "execution_count": 18,
     "metadata": {},
     "output_type": "execute_result"
    }
   ],
   "source": [
    "#reproducable random numberr\n",
    "#harus digunakan pada sel yang sama\n",
    "#seed berarti semacam seed di minecraft (jika seed sama, hasil selalu sama pada semua komputer)\n",
    "np.random.seed(seed=0)\n",
    "random2 = np.random.random((5, 3))\n",
    "random2"
   ]
  },
  {
   "cell_type": "code",
   "execution_count": 17,
   "id": "5b6c286e-0ed8-4579-ae55-47c7a58da8c4",
   "metadata": {},
   "outputs": [
    {
     "data": {
      "text/plain": [
       "array([[0, 3, 1],\n",
       "       [8, 1, 3],\n",
       "       [8, 5, 6],\n",
       "       [0, 6, 0],\n",
       "       [4, 0, 9]])"
      ]
     },
     "execution_count": 17,
     "metadata": {},
     "output_type": "execute_result"
    }
   ],
   "source": [
    "np.random.seed(seed=99999)\n",
    "random = np.random.randint(10, size=(5, 3))\n",
    "random"
   ]
  },
  {
   "cell_type": "code",
   "execution_count": 19,
   "id": "e0cb04a8-5ff7-48ed-81b0-4a906f38084c",
   "metadata": {},
   "outputs": [
    {
     "data": {
      "text/plain": [
       "array([0, 1, 3, 4, 5, 6, 8, 9])"
      ]
     },
     "execution_count": 19,
     "metadata": {},
     "output_type": "execute_result"
    }
   ],
   "source": [
    "#np.unique\n",
    "np.unique(random)"
   ]
  },
  {
   "cell_type": "code",
   "execution_count": 23,
   "id": "af3e2c74-4e25-4435-8be5-3bb2728a324d",
   "metadata": {},
   "outputs": [
    {
     "data": {
      "text/plain": [
       "array([[[ 1,  2,  3],\n",
       "        [ 4,  5,  6],\n",
       "        [ 7,  8,  9]],\n",
       "\n",
       "       [[10, 11, 12],\n",
       "        [13, 14, 15],\n",
       "        [16, 17, 18]]])"
      ]
     },
     "execution_count": 23,
     "metadata": {},
     "output_type": "execute_result"
    }
   ],
   "source": [
    "a3"
   ]
  },
  {
   "cell_type": "code",
   "execution_count": 24,
   "id": "0cfef3cf-77c3-47a0-b2b6-4251ebc7fc20",
   "metadata": {},
   "outputs": [
    {
     "data": {
      "text/plain": [
       "array([[10, 11, 12],\n",
       "       [13, 14, 15],\n",
       "       [16, 17, 18]])"
      ]
     },
     "execution_count": 24,
     "metadata": {},
     "output_type": "execute_result"
    }
   ],
   "source": [
    "a3[1]"
   ]
  },
  {
   "cell_type": "code",
   "execution_count": 25,
   "id": "d4b8bd4b-b525-47c8-b63a-9d7764cf1f3a",
   "metadata": {},
   "outputs": [
    {
     "data": {
      "text/plain": [
       "16"
      ]
     },
     "execution_count": 25,
     "metadata": {},
     "output_type": "execute_result"
    }
   ],
   "source": [
    "a3[1,2,0]"
   ]
  },
  {
   "cell_type": "code",
   "execution_count": 26,
   "id": "96b80b25-f090-4e7f-bbdb-967e6b1e3748",
   "metadata": {},
   "outputs": [
    {
     "data": {
      "text/plain": [
       "array([1, 2])"
      ]
     },
     "execution_count": 26,
     "metadata": {},
     "output_type": "execute_result"
    }
   ],
   "source": [
    "a3[0,0,0:2:1]"
   ]
  },
  {
   "cell_type": "code",
   "execution_count": 27,
   "id": "1c282fad-c7b1-4061-bf61-0167a91d0857",
   "metadata": {},
   "outputs": [
    {
     "data": {
      "text/plain": [
       "array([[[ 1,  2],\n",
       "        [ 4,  5]],\n",
       "\n",
       "       [[10, 11],\n",
       "        [13, 14]]])"
      ]
     },
     "execution_count": 27,
     "metadata": {},
     "output_type": "execute_result"
    }
   ],
   "source": [
    "a3[:2,:2,:2]"
   ]
  },
  {
   "cell_type": "code",
   "execution_count": 28,
   "id": "178b3112-889e-47e5-bd9d-8ec486743e9d",
   "metadata": {},
   "outputs": [
    {
     "data": {
      "text/plain": [
       "array([[[ 2,  3],\n",
       "        [ 5,  6],\n",
       "        [ 8,  9]],\n",
       "\n",
       "       [[11, 12],\n",
       "        [14, 15],\n",
       "        [17, 18]]])"
      ]
     },
     "execution_count": 28,
     "metadata": {},
     "output_type": "execute_result"
    }
   ],
   "source": [
    "a3[:2,:3,1:3]"
   ]
  },
  {
   "cell_type": "markdown",
   "id": "16a13171-e2a0-4d70-91a9-dde81648dfea",
   "metadata": {},
   "source": [
    "## Manipulating"
   ]
  },
  {
   "cell_type": "code",
   "execution_count": 29,
   "id": "b0ee56d7-6dc0-4ce2-aafc-eaf9d93e115f",
   "metadata": {},
   "outputs": [
    {
     "data": {
      "text/plain": [
       "array([1, 2, 3])"
      ]
     },
     "execution_count": 29,
     "metadata": {},
     "output_type": "execute_result"
    }
   ],
   "source": [
    "a1"
   ]
  },
  {
   "cell_type": "code",
   "execution_count": 32,
   "id": "6330c5d1-9dce-4867-9729-e6ffd7cc3039",
   "metadata": {},
   "outputs": [
    {
     "data": {
      "text/plain": [
       "dtype('float64')"
      ]
     },
     "execution_count": 32,
     "metadata": {},
     "output_type": "execute_result"
    }
   ],
   "source": [
    "ones = np.ones(3)\n",
    "ones.dtype"
   ]
  },
  {
   "cell_type": "code",
   "execution_count": 31,
   "id": "0f6ead68-1962-4dfa-8342-3c2946b92d38",
   "metadata": {},
   "outputs": [
    {
     "data": {
      "text/plain": [
       "array([2., 3., 4.])"
      ]
     },
     "execution_count": 31,
     "metadata": {},
     "output_type": "execute_result"
    }
   ],
   "source": [
    "a1+ones"
   ]
  },
  {
   "cell_type": "code",
   "execution_count": 33,
   "id": "5276696c-e928-437e-9f21-152676e09590",
   "metadata": {},
   "outputs": [
    {
     "data": {
      "text/plain": [
       "array([0., 1., 2.])"
      ]
     },
     "execution_count": 33,
     "metadata": {},
     "output_type": "execute_result"
    }
   ],
   "source": [
    "a1-ones"
   ]
  },
  {
   "cell_type": "code",
   "execution_count": 34,
   "id": "5f7c1386-90ba-4078-b89f-f58421fcafb8",
   "metadata": {},
   "outputs": [
    {
     "data": {
      "text/plain": [
       "array([1., 2., 3.])"
      ]
     },
     "execution_count": 34,
     "metadata": {},
     "output_type": "execute_result"
    }
   ],
   "source": [
    "a1*ones"
   ]
  },
  {
   "cell_type": "code",
   "execution_count": 39,
   "id": "4b1b4a00-b672-4c16-b0d0-519fd4a595a9",
   "metadata": {},
   "outputs": [
    {
     "data": {
      "text/plain": [
       "array([[1. , 2. , 3.3],\n",
       "       [3. , 5. , 6.5]])"
      ]
     },
     "execution_count": 39,
     "metadata": {},
     "output_type": "execute_result"
    }
   ],
   "source": [
    "a2[:]"
   ]
  },
  {
   "cell_type": "code",
   "execution_count": 40,
   "id": "957900b5-10e0-4e7b-8c28-8605a7f05b23",
   "metadata": {},
   "outputs": [
    {
     "data": {
      "text/plain": [
       "array([[1. , 2. , 3.3],\n",
       "       [3. , 5. , 6.5]])"
      ]
     },
     "execution_count": 40,
     "metadata": {},
     "output_type": "execute_result"
    }
   ],
   "source": [
    "a2"
   ]
  },
  {
   "cell_type": "code",
   "execution_count": 41,
   "id": "8d6ff7c0-5f34-4b44-8e55-de34fb08c78e",
   "metadata": {},
   "outputs": [
    {
     "data": {
      "text/plain": [
       "array([0, 1, 2, 3, 4, 5])"
      ]
     },
     "execution_count": 41,
     "metadata": {},
     "output_type": "execute_result"
    }
   ],
   "source": [
    "np.arange(6)"
   ]
  },
  {
   "cell_type": "code",
   "execution_count": 42,
   "id": "2075849b-4e81-4632-8010-fa63cad58fbc",
   "metadata": {},
   "outputs": [
    {
     "data": {
      "text/plain": [
       "array([[1. , 2. , 3.3],\n",
       "       [3. , 5. , 6.5]])"
      ]
     },
     "execution_count": 42,
     "metadata": {},
     "output_type": "execute_result"
    }
   ],
   "source": [
    "a2"
   ]
  },
  {
   "cell_type": "code",
   "execution_count": 43,
   "id": "49f55975-49fc-4bad-b37f-a913bcf4ed71",
   "metadata": {},
   "outputs": [
    {
     "data": {
      "text/plain": [
       "array([[[ 1,  2,  3],\n",
       "        [ 4,  5,  6],\n",
       "        [ 7,  8,  9]],\n",
       "\n",
       "       [[10, 11, 12],\n",
       "        [13, 14, 15],\n",
       "        [16, 17, 18]]])"
      ]
     },
     "execution_count": 43,
     "metadata": {},
     "output_type": "execute_result"
    }
   ],
   "source": [
    "a3"
   ]
  },
  {
   "cell_type": "code",
   "execution_count": 52,
   "id": "7ef813c1-df94-4e20-a309-c9a561f7c2d1",
   "metadata": {},
   "outputs": [],
   "source": [
    "a31 = np.reshape(a3,(3,2,3))"
   ]
  },
  {
   "cell_type": "code",
   "execution_count": 49,
   "id": "3fac0995-a346-49f8-9f68-20b21ba1482f",
   "metadata": {},
   "outputs": [],
   "source": [
    "a21 = np.reshape(a2,6)"
   ]
  },
  {
   "cell_type": "code",
   "execution_count": 53,
   "id": "8abdcce1-02fa-4315-a585-96a1d1b013b6",
   "metadata": {},
   "outputs": [
    {
     "data": {
      "text/plain": [
       "array([[[ 1,  2,  3],\n",
       "        [ 4,  5,  6]],\n",
       "\n",
       "       [[ 7,  8,  9],\n",
       "        [10, 11, 12]],\n",
       "\n",
       "       [[13, 14, 15],\n",
       "        [16, 17, 18]]])"
      ]
     },
     "execution_count": 53,
     "metadata": {},
     "output_type": "execute_result"
    }
   ],
   "source": [
    "a31"
   ]
  },
  {
   "cell_type": "code",
   "execution_count": 54,
   "id": "c87a2d07-963c-4076-960b-a2c37af1b90a",
   "metadata": {},
   "outputs": [
    {
     "data": {
      "text/plain": [
       "array([[[  1. ,   4. ,   9.9],\n",
       "        [ 12. ,  25. ,  39. ]],\n",
       "\n",
       "       [[  7. ,  16. ,  29.7],\n",
       "        [ 30. ,  55. ,  78. ]],\n",
       "\n",
       "       [[ 13. ,  28. ,  49.5],\n",
       "        [ 48. ,  85. , 117. ]]])"
      ]
     },
     "execution_count": 54,
     "metadata": {},
     "output_type": "execute_result"
    }
   ],
   "source": [
    "a31*a2"
   ]
  },
  {
   "cell_type": "code",
   "execution_count": 56,
   "id": "b26435f2-72a7-4d9e-8799-1d4d397f94c9",
   "metadata": {},
   "outputs": [
    {
     "data": {
      "text/plain": [
       "array([[[  1. ,   4. ,   9.9],\n",
       "        [ 12. ,  25. ,  39. ]],\n",
       "\n",
       "       [[  7. ,  16. ,  29.7],\n",
       "        [ 30. ,  55. ,  78. ]],\n",
       "\n",
       "       [[ 13. ,  28. ,  49.5],\n",
       "        [ 48. ,  85. , 117. ]]])"
      ]
     },
     "execution_count": 56,
     "metadata": {},
     "output_type": "execute_result"
    }
   ],
   "source": [
    "a2*a31 # hasil perkalian dimensi awal harus sama dengan perkalian dimensi akhir"
   ]
  },
  {
   "cell_type": "markdown",
   "id": "9a2adf15-179d-4496-aeaf-18fae08a1a37",
   "metadata": {},
   "source": [
    "## aggregation"
   ]
  },
  {
   "cell_type": "code",
   "execution_count": 59,
   "id": "c56c8a77-a36d-4c1c-8386-0827e5c84667",
   "metadata": {},
   "outputs": [
    {
     "data": {
      "text/plain": [
       "6"
      ]
     },
     "execution_count": 59,
     "metadata": {},
     "output_type": "execute_result"
    }
   ],
   "source": [
    "listy = [1,2,3]\n",
    "sum(listy)"
   ]
  },
  {
   "cell_type": "code",
   "execution_count": 60,
   "id": "abbe647d-bf50-4850-aedd-5d45732604bc",
   "metadata": {},
   "outputs": [
    {
     "data": {
      "text/plain": [
       "6"
      ]
     },
     "execution_count": 60,
     "metadata": {},
     "output_type": "execute_result"
    }
   ],
   "source": [
    "np.sum(listy)"
   ]
  },
  {
   "cell_type": "markdown",
   "id": "6e4793e4-f272-4d6f-b11e-ef321e597128",
   "metadata": {},
   "source": [
    "## use python sum() on python datatypes\n",
    "## use np.sum on numpy array"
   ]
  },
  {
   "cell_type": "code",
   "execution_count": 63,
   "id": "20bda76a-fc42-49b2-b8a0-82a623815188",
   "metadata": {},
   "outputs": [
    {
     "data": {
      "text/plain": [
       "1000"
      ]
     },
     "execution_count": 63,
     "metadata": {},
     "output_type": "execute_result"
    }
   ],
   "source": [
    "massive = np.random.random(1000)\n",
    "massive.size"
   ]
  },
  {
   "cell_type": "code",
   "execution_count": 64,
   "id": "055c87f7-d03c-4690-9401-82eb675e527b",
   "metadata": {},
   "outputs": [
    {
     "name": "stdout",
     "output_type": "stream",
     "text": [
      "72 µs ± 1.4 µs per loop (mean ± std. dev. of 7 runs, 10,000 loops each)\n",
      "3.16 µs ± 143 ns per loop (mean ± std. dev. of 7 runs, 100,000 loops each)\n"
     ]
    }
   ],
   "source": [
    "%timeit sum(massive)\n",
    "%timeit np.sum(massive)"
   ]
  },
  {
   "cell_type": "code",
   "execution_count": 67,
   "id": "67a05d9e-5e9c-4bdc-b90a-a95a305cadde",
   "metadata": {},
   "outputs": [
    {
     "data": {
      "text/plain": [
       "0.816496580927726"
      ]
     },
     "execution_count": 67,
     "metadata": {},
     "output_type": "execute_result"
    }
   ],
   "source": [
    "np.std(listy) \n",
    "#akar dari variant"
   ]
  },
  {
   "cell_type": "code",
   "execution_count": 71,
   "id": "2c4fac12-f698-48d3-a7f9-b53e8c3eaa04",
   "metadata": {},
   "outputs": [
    {
     "data": {
      "text/plain": [
       "0.6666666666666666"
      ]
     },
     "execution_count": 71,
     "metadata": {},
     "output_type": "execute_result"
    }
   ],
   "source": [
    "np.var(listy)\n",
    "#menandakan kejauhan data dari mean"
   ]
  },
  {
   "cell_type": "code",
   "execution_count": 69,
   "id": "16953d18-4f4a-42ac-83f8-6d887f8cd83e",
   "metadata": {},
   "outputs": [
    {
     "data": {
      "text/plain": [
       "0.816496580927726"
      ]
     },
     "execution_count": 69,
     "metadata": {},
     "output_type": "execute_result"
    }
   ],
   "source": [
    "np.sqrt(np.var(listy))"
   ]
  },
  {
   "cell_type": "code",
   "execution_count": 72,
   "id": "9aa07c63-33ef-4a86-8160-659151643e5c",
   "metadata": {},
   "outputs": [],
   "source": [
    "high = [100,200,300,1000,2000,5000]\n",
    "low = [2,4,6,8,10]"
   ]
  },
  {
   "cell_type": "code",
   "execution_count": 73,
   "id": "241b56ea-53c4-4701-9418-17bd938332b7",
   "metadata": {},
   "outputs": [
    {
     "data": {
      "text/plain": [
       "(1723.0463977760116, 2.8284271247461903)"
      ]
     },
     "execution_count": 73,
     "metadata": {},
     "output_type": "execute_result"
    }
   ],
   "source": [
    "np.std(high), np.std(low)"
   ]
  },
  {
   "cell_type": "code",
   "execution_count": 74,
   "id": "c24c1ada-043c-4d67-929b-9f9c73151d2e",
   "metadata": {},
   "outputs": [
    {
     "data": {
      "text/plain": [
       "(2968888.8888888895, 8.0)"
      ]
     },
     "execution_count": 74,
     "metadata": {},
     "output_type": "execute_result"
    }
   ],
   "source": [
    "np.var(high), np.var(low)"
   ]
  },
  {
   "cell_type": "code",
   "execution_count": 77,
   "id": "29d38f43-5188-4a06-b50a-8f668e6f92e0",
   "metadata": {},
   "outputs": [],
   "source": [
    "import matplotlib.pyplot as plt"
   ]
  },
  {
   "cell_type": "code",
   "execution_count": 78,
   "id": "8f67ae1e-40e0-48f0-ac39-da03057df900",
   "metadata": {},
   "outputs": [
    {
     "data": {
      "image/png": "[encoded data removed]",
      "text/plain": [
       "<Figure size 640x480 with 1 Axes>"
      ]
     },
     "metadata": {},
     "output_type": "display_data"
    }
   ],
   "source": [
    "plt.hist(high)\n",
    "plt.show()"
   ]
  },
  {
   "cell_type": "code",
   "execution_count": 79,
   "id": "a570b928-89a0-4c1b-82a8-5adb3fcbfc86",
   "metadata": {},
   "outputs": [
    {
     "data": {
      "text/plain": [
       "<function matplotlib.pyplot.show(close=None, block=None)>"
      ]
     },
     "execution_count": 79,
     "metadata": {},
     "output_type": "execute_result"
    },
    {
     "data": {
      "image/png": "[encoded data removed]",
      "text/plain": [
       "<Figure size 640x480 with 1 Axes>"
      ]
     },
     "metadata": {},
     "output_type": "display_data"
    }
   ],
   "source": [
    "plt.hist(low)\n",
    "plt.show"
   ]
  },
  {
   "cell_type": "code",
   "execution_count": 80,
   "id": "5ef0d9f1-c273-436a-8a14-9a83465fdd0b",
   "metadata": {},
   "outputs": [
    {
     "data": {
      "text/plain": [
       "array([1, 2, 3])"
      ]
     },
     "execution_count": 80,
     "metadata": {},
     "output_type": "execute_result"
    }
   ],
   "source": [
    "a1"
   ]
  },
  {
   "cell_type": "code",
   "execution_count": 81,
   "id": "7eeda06a-6c22-4b23-926b-4ba26a6cbe2b",
   "metadata": {},
   "outputs": [
    {
     "data": {
      "text/plain": [
       "array([[1. , 2. , 3.3],\n",
       "       [3. , 5. , 6.5]])"
      ]
     },
     "execution_count": 81,
     "metadata": {},
     "output_type": "execute_result"
    }
   ],
   "source": [
    "a2"
   ]
  },
  {
   "cell_type": "code",
   "execution_count": 82,
   "id": "4f1c290f-f10b-48c6-a116-a0461906df12",
   "metadata": {},
   "outputs": [
    {
     "data": {
      "text/plain": [
       "array([[[ 1,  2,  3],\n",
       "        [ 4,  5,  6],\n",
       "        [ 7,  8,  9]],\n",
       "\n",
       "       [[10, 11, 12],\n",
       "        [13, 14, 15],\n",
       "        [16, 17, 18]]])"
      ]
     },
     "execution_count": 82,
     "metadata": {},
     "output_type": "execute_result"
    }
   ],
   "source": [
    "a3"
   ]
  },
  {
   "cell_type": "code",
   "execution_count": 83,
   "id": "8150ca4f-2701-44e6-b5b9-e59dc2f63a07",
   "metadata": {},
   "outputs": [
    {
     "data": {
      "text/plain": [
       "array([[[1. ],\n",
       "        [2. ],\n",
       "        [3.3]],\n",
       "\n",
       "       [[3. ],\n",
       "        [5. ],\n",
       "        [6.5]]])"
      ]
     },
     "execution_count": 83,
     "metadata": {},
     "output_type": "execute_result"
    }
   ],
   "source": [
    "a2r = a2.reshape(2,3,1)\n",
    "a2r"
   ]
  },
  {
   "cell_type": "code",
   "execution_count": 84,
   "id": "edf0c34e-a324-41fc-942a-32c11f8d0286",
   "metadata": {},
   "outputs": [
    {
     "data": {
      "text/plain": [
       "array([[[  1. ,   2. ,   3. ],\n",
       "        [  8. ,  10. ,  12. ],\n",
       "        [ 23.1,  26.4,  29.7]],\n",
       "\n",
       "       [[ 30. ,  33. ,  36. ],\n",
       "        [ 65. ,  70. ,  75. ],\n",
       "        [104. , 110.5, 117. ]]])"
      ]
     },
     "execution_count": 84,
     "metadata": {},
     "output_type": "execute_result"
    }
   ],
   "source": [
    "a3*a2r"
   ]
  },
  {
   "cell_type": "code",
   "execution_count": 93,
   "id": "a173946c-9fc9-4224-ad9d-4facf625a03a",
   "metadata": {},
   "outputs": [
    {
     "data": {
      "text/plain": [
       "array([[[1. , 2. , 3.3]],\n",
       "\n",
       "       [[3. , 5. , 6.5]]])"
      ]
     },
     "execution_count": 93,
     "metadata": {},
     "output_type": "execute_result"
    }
   ],
   "source": [
    "a2r2 = a2.reshape(2,1,3)\n",
    "a2r2"
   ]
  },
  {
   "cell_type": "code",
   "execution_count": 95,
   "id": "f5fa9d42-85b8-4c29-8a76-657eb34023ea",
   "metadata": {},
   "outputs": [
    {
     "data": {
      "text/plain": [
       "array([[[1. ],\n",
       "        [2. ],\n",
       "        [3.3]],\n",
       "\n",
       "       [[3. ],\n",
       "        [5. ],\n",
       "        [6.5]]])"
      ]
     },
     "execution_count": 95,
     "metadata": {},
     "output_type": "execute_result"
    }
   ],
   "source": [
    "a2r3 = a2.reshape(2,3,1)\n",
    "a2r3"
   ]
  },
  {
   "cell_type": "code",
   "execution_count": 97,
   "id": "b905cebb-c49f-4b50-870e-7b26b9b91f47",
   "metadata": {},
   "outputs": [
    {
     "data": {
      "text/plain": [
       "array([[[1. , 2. , 3.3],\n",
       "        [3. , 5. , 6.5]]])"
      ]
     },
     "execution_count": 97,
     "metadata": {},
     "output_type": "execute_result"
    }
   ],
   "source": [
    "a2r1 = a2.reshape(1,2,3)\n",
    "a2r1"
   ]
  },
  {
   "cell_type": "code",
   "execution_count": 150,
   "id": "46ec755a-c27a-4dda-bec1-f097af58bfcd",
   "metadata": {},
   "outputs": [
    {
     "name": "stdout",
     "output_type": "stream",
     "text": [
      "[[[ 1  2  3]\n",
      "  [ 4  5  6]\n",
      "  [ 7  8  9]]\n",
      "\n",
      " [[10 11 12]\n",
      "  [13 14 15]\n",
      "  [16 17 18]]]\n",
      "--\n",
      "[[[1.  2.  3.3]]\n",
      "\n",
      " [[3.  5.  6.5]]]\n",
      "--\n",
      "[[[1. ]\n",
      "  [2. ]\n",
      "  [3.3]]\n",
      "\n",
      " [[3. ]\n",
      "  [5. ]\n",
      "  [6.5]]]\n",
      "--\n",
      "[[[  1.    4.    9.9]\n",
      "  [  4.   10.   19.8]\n",
      "  [  7.   16.   29.7]]\n",
      "\n",
      " [[ 30.   55.   78. ]\n",
      "  [ 39.   70.   97.5]\n",
      "  [ 48.   85.  117. ]]]\n",
      "--\n",
      "[[[  1.    2.    3. ]\n",
      "  [  8.   10.   12. ]\n",
      "  [ 23.1  26.4  29.7]]\n",
      "\n",
      " [[ 30.   33.   36. ]\n",
      "  [ 65.   70.   75. ]\n",
      "  [104.  110.5 117. ]]]\n"
     ]
    }
   ],
   "source": [
    "print(a3)\n",
    "print(\"--\")\n",
    "print(a2r2)\n",
    "print(\"--\")\n",
    "print(a2r3)\n",
    "print(\"--\")\n",
    "print(a2r2*a3)\n",
    "print(\"--\")\n",
    "print(a2r3*a3)"
   ]
  },
  {
   "cell_type": "markdown",
   "id": "9e372b5a-5436-4660-9a3c-0cad533638ea",
   "metadata": {},
   "source": [
    "### pada contoh diatas dapat dilihat bahwa dimensi yang bernilai 1 akan distretch menuju dimensi yang lebih besar."
   ]
  },
  {
   "cell_type": "code",
   "execution_count": 155,
   "id": "8005b919-91f3-48ec-8592-cdd42d8cb55e",
   "metadata": {},
   "outputs": [
    {
     "data": {
      "text/plain": [
       "(2, 3, 3)"
      ]
     },
     "execution_count": 155,
     "metadata": {},
     "output_type": "execute_result"
    }
   ],
   "source": [
    "a3.shape "
   ]
  },
  {
   "cell_type": "code",
   "execution_count": 156,
   "id": "4853593a-2fc2-440d-87d3-7fe51a2d7936",
   "metadata": {},
   "outputs": [
    {
     "data": {
      "text/plain": [
       "(2, 1, 3)"
      ]
     },
     "execution_count": 156,
     "metadata": {},
     "output_type": "execute_result"
    }
   ],
   "source": [
    "a2r2.shape"
   ]
  },
  {
   "cell_type": "code",
   "execution_count": 157,
   "id": "8f7d66a0-4307-421b-8a5c-9201a2fd023f",
   "metadata": {},
   "outputs": [
    {
     "data": {
      "text/plain": [
       "(2, 3, 1)"
      ]
     },
     "execution_count": 157,
     "metadata": {},
     "output_type": "execute_result"
    }
   ],
   "source": [
    "a2r3.shape"
   ]
  },
  {
   "cell_type": "code",
   "execution_count": 129,
   "id": "1d297841-103c-49ca-a0d2-c3fd8b71584f",
   "metadata": {},
   "outputs": [],
   "source": [
    "b1 = np.arange(0,96)"
   ]
  },
  {
   "cell_type": "code",
   "execution_count": 130,
   "id": "871d31d1-c9eb-4c3e-9be1-54900ee5b447",
   "metadata": {},
   "outputs": [
    {
     "data": {
      "text/plain": [
       "array([ 0,  1,  2,  3,  4,  5,  6,  7,  8,  9, 10, 11, 12, 13, 14, 15, 16,\n",
       "       17, 18, 19, 20, 21, 22, 23, 24, 25, 26, 27, 28, 29, 30, 31, 32, 33,\n",
       "       34, 35, 36, 37, 38, 39, 40, 41, 42, 43, 44, 45, 46, 47, 48, 49, 50,\n",
       "       51, 52, 53, 54, 55, 56, 57, 58, 59, 60, 61, 62, 63, 64, 65, 66, 67,\n",
       "       68, 69, 70, 71, 72, 73, 74, 75, 76, 77, 78, 79, 80, 81, 82, 83, 84,\n",
       "       85, 86, 87, 88, 89, 90, 91, 92, 93, 94, 95])"
      ]
     },
     "execution_count": 130,
     "metadata": {},
     "output_type": "execute_result"
    }
   ],
   "source": [
    "b1"
   ]
  },
  {
   "cell_type": "code",
   "execution_count": 131,
   "id": "d956c802-46f9-49a1-80d7-4fdc18fed2b7",
   "metadata": {},
   "outputs": [
    {
     "data": {
      "text/plain": [
       "96"
      ]
     },
     "execution_count": 131,
     "metadata": {},
     "output_type": "execute_result"
    }
   ],
   "source": [
    "b1.size"
   ]
  },
  {
   "cell_type": "code",
   "execution_count": 133,
   "id": "e86e0d60-5d5a-4d8a-bf65-a01d89845cfd",
   "metadata": {},
   "outputs": [],
   "source": [
    "b1r = b1.reshape(4,3,2,2,2)"
   ]
  },
  {
   "cell_type": "code",
   "execution_count": 134,
   "id": "8360e013-43cc-437b-af65-6a5037452ba4",
   "metadata": {},
   "outputs": [
    {
     "data": {
      "text/plain": [
       "array([[[[[ 0,  1],\n",
       "          [ 2,  3]],\n",
       "\n",
       "         [[ 4,  5],\n",
       "          [ 6,  7]]],\n",
       "\n",
       "\n",
       "        [[[ 8,  9],\n",
       "          [10, 11]],\n",
       "\n",
       "         [[12, 13],\n",
       "          [14, 15]]],\n",
       "\n",
       "\n",
       "        [[[16, 17],\n",
       "          [18, 19]],\n",
       "\n",
       "         [[20, 21],\n",
       "          [22, 23]]]],\n",
       "\n",
       "\n",
       "\n",
       "       [[[[24, 25],\n",
       "          [26, 27]],\n",
       "\n",
       "         [[28, 29],\n",
       "          [30, 31]]],\n",
       "\n",
       "\n",
       "        [[[32, 33],\n",
       "          [34, 35]],\n",
       "\n",
       "         [[36, 37],\n",
       "          [38, 39]]],\n",
       "\n",
       "\n",
       "        [[[40, 41],\n",
       "          [42, 43]],\n",
       "\n",
       "         [[44, 45],\n",
       "          [46, 47]]]],\n",
       "\n",
       "\n",
       "\n",
       "       [[[[48, 49],\n",
       "          [50, 51]],\n",
       "\n",
       "         [[52, 53],\n",
       "          [54, 55]]],\n",
       "\n",
       "\n",
       "        [[[56, 57],\n",
       "          [58, 59]],\n",
       "\n",
       "         [[60, 61],\n",
       "          [62, 63]]],\n",
       "\n",
       "\n",
       "        [[[64, 65],\n",
       "          [66, 67]],\n",
       "\n",
       "         [[68, 69],\n",
       "          [70, 71]]]],\n",
       "\n",
       "\n",
       "\n",
       "       [[[[72, 73],\n",
       "          [74, 75]],\n",
       "\n",
       "         [[76, 77],\n",
       "          [78, 79]]],\n",
       "\n",
       "\n",
       "        [[[80, 81],\n",
       "          [82, 83]],\n",
       "\n",
       "         [[84, 85],\n",
       "          [86, 87]]],\n",
       "\n",
       "\n",
       "        [[[88, 89],\n",
       "          [90, 91]],\n",
       "\n",
       "         [[92, 93],\n",
       "          [94, 95]]]]])"
      ]
     },
     "execution_count": 134,
     "metadata": {},
     "output_type": "execute_result"
    }
   ],
   "source": [
    "b1r"
   ]
  },
  {
   "cell_type": "code",
   "execution_count": 135,
   "id": "fdbdf54b-6f2f-4616-bc1b-eeda70a4189b",
   "metadata": {},
   "outputs": [],
   "source": [
    "b2 = np.arange(0,48)"
   ]
  },
  {
   "cell_type": "code",
   "execution_count": 136,
   "id": "79020e0e-8c99-4da7-870a-4d9a7d1e5f66",
   "metadata": {},
   "outputs": [],
   "source": [
    "b2r = b2.reshape(4,3,2,2)"
   ]
  },
  {
   "cell_type": "code",
   "execution_count": 137,
   "id": "48b744c9-2eeb-4722-8634-1853d6759a5c",
   "metadata": {},
   "outputs": [
    {
     "ename": "ValueError",
     "evalue": "operands could not be broadcast together with shapes (4,3,2,2,2) (4,3,2,2) ",
     "output_type": "error",
     "traceback": [
      "\u001b[1;31m---------------------------------------------------------------------------\u001b[0m",
      "\u001b[1;31mValueError\u001b[0m                                Traceback (most recent call last)",
      "Cell \u001b[1;32mIn[137], line 1\u001b[0m\n\u001b[1;32m----> 1\u001b[0m b1r\u001b[38;5;241m*\u001b[39mb2r\n",
      "\u001b[1;31mValueError\u001b[0m: operands could not be broadcast together with shapes (4,3,2,2,2) (4,3,2,2) "
     ]
    }
   ],
   "source": [
    "b1r*b2r"
   ]
  },
  {
   "cell_type": "code",
   "execution_count": 138,
   "id": "7d9bec7b-1a26-4e9a-8136-3b7b4fe420c2",
   "metadata": {},
   "outputs": [],
   "source": [
    "b2r1 = b2r.reshape(4,3,2,2,1)"
   ]
  },
  {
   "cell_type": "code",
   "execution_count": 139,
   "id": "53b06bb0-8d9f-4aaa-a999-0173956dce09",
   "metadata": {},
   "outputs": [],
   "source": [
    "b2r2 = b2r.reshape(4,3,2,1,2)"
   ]
  },
  {
   "cell_type": "code",
   "execution_count": 140,
   "id": "f22ce370-8211-44a5-903b-119e47487300",
   "metadata": {},
   "outputs": [],
   "source": [
    "b2r3 = b2r.reshape(4,3,1,2,2)"
   ]
  },
  {
   "cell_type": "code",
   "execution_count": 141,
   "id": "a7015fa9-1e1a-4b31-856b-80cb6f494973",
   "metadata": {},
   "outputs": [],
   "source": [
    "b2r4 = b2r.reshape(4,1,3,2,2)"
   ]
  },
  {
   "cell_type": "code",
   "execution_count": 142,
   "id": "cd6e3008",
   "metadata": {},
   "outputs": [],
   "source": [
    "b2r5 = b2r.reshape(1,4,3,2,2)"
   ]
  },
  {
   "cell_type": "code",
   "execution_count": 146,
   "id": "f1ae707e-a85d-4b99-8724-225f20a50729",
   "metadata": {},
   "outputs": [
    {
     "ename": "ValueError",
     "evalue": "operands could not be broadcast together with shapes (4,1,3,2,2) (4,3,2,2,2) ",
     "output_type": "error",
     "traceback": [
      "\u001b[1;31m---------------------------------------------------------------------------\u001b[0m",
      "\u001b[1;31mValueError\u001b[0m                                Traceback (most recent call last)",
      "Cell \u001b[1;32mIn[146], line 1\u001b[0m\n\u001b[1;32m----> 1\u001b[0m b2r4\u001b[38;5;241m*\u001b[39mb1r\n",
      "\u001b[1;31mValueError\u001b[0m: operands could not be broadcast together with shapes (4,1,3,2,2) (4,3,2,2,2) "
     ]
    }
   ],
   "source": [
    "b2r4*b1r"
   ]
  },
  {
   "cell_type": "code",
   "execution_count": 158,
   "id": "5d1b3634-2523-4daf-9df1-e2d6995267ae",
   "metadata": {},
   "outputs": [
    {
     "data": {
      "text/plain": [
       "array([[1. , 2. , 3.3],\n",
       "       [3. , 5. , 6.5]])"
      ]
     },
     "execution_count": 158,
     "metadata": {},
     "output_type": "execute_result"
    }
   ],
   "source": [
    "a2"
   ]
  },
  {
   "cell_type": "code",
   "execution_count": 160,
   "id": "88d7c359-ce3d-433c-a923-f72996e938ae",
   "metadata": {},
   "outputs": [
    {
     "data": {
      "text/plain": [
       "array([[1. , 3. ],\n",
       "       [2. , 5. ],\n",
       "       [3.3, 6.5]])"
      ]
     },
     "execution_count": 160,
     "metadata": {},
     "output_type": "execute_result"
    }
   ],
   "source": [
    "a2.T #transpos(mengubah kolom menjadi baris dan sebaliknya)"
   ]
  },
  {
   "cell_type": "markdown",
   "id": "4f3620a9-6444-4155-a642-9237ec96ac83",
   "metadata": {},
   "source": [
    "## Dot product"
   ]
  },
  {
   "cell_type": "code",
   "execution_count": 161,
   "id": "a4bdbb03-d846-48aa-ab47-83c7619528d6",
   "metadata": {},
   "outputs": [],
   "source": [
    "np.random.seed(0)\n",
    "\n",
    "mat1 = np.random.randint(10, size=(5,3))\n",
    "mat2 = np.random.randint(10, size=(5,3))"
   ]
  },
  {
   "cell_type": "code",
   "execution_count": 163,
   "id": "85926a17-6ba1-449a-85e2-a2dcf7c75d4a",
   "metadata": {},
   "outputs": [],
   "source": [
    "mat2 = mat2.T"
   ]
  },
  {
   "cell_type": "code",
   "execution_count": 164,
   "id": "3998b296-bef3-4a39-bfea-dc9bdb498a6f",
   "metadata": {},
   "outputs": [
    {
     "data": {
      "text/plain": [
       "(3, 5)"
      ]
     },
     "execution_count": 164,
     "metadata": {},
     "output_type": "execute_result"
    }
   ],
   "source": [
    "mat2.shape"
   ]
  },
  {
   "cell_type": "code",
   "execution_count": 165,
   "id": "3a0637da-8679-4991-a916-1d6453eda038",
   "metadata": {},
   "outputs": [],
   "source": [
    "mat = np.dot(mat1,mat2) "
   ]
  },
  {
   "cell_type": "code",
   "execution_count": 166,
   "id": "f0bd1ce3-636a-4d12-87eb-11022b741b10",
   "metadata": {},
   "outputs": [
    {
     "data": {
      "text/plain": [
       "array([[ 51,  55,  72,  20,  15],\n",
       "       [130,  76, 164,  33,  44],\n",
       "       [ 67,  39,  85,  27,  34],\n",
       "       [115,  69, 146,  37,  47],\n",
       "       [111,  77, 145,  56,  64]])"
      ]
     },
     "execution_count": 166,
     "metadata": {},
     "output_type": "execute_result"
    }
   ],
   "source": [
    "mat"
   ]
  },
  {
   "cell_type": "markdown",
   "id": "9cc79255-bbfe-46de-a09e-6c8d66f73015",
   "metadata": {},
   "source": [
    "### "
   ]
  },
  {
   "cell_type": "markdown",
   "id": "72f93f8d-9155-4e3a-bbb2-161a1707c01d",
   "metadata": {},
   "source": [
    "## Dot Product"
   ]
  },
  {
   "cell_type": "code",
   "execution_count": 4,
   "id": "d0b74391-60d7-4408-98e9-1451871c5a07",
   "metadata": {},
   "outputs": [
    {
     "data": {
      "text/plain": [
       "array([[ 9,  4, 15,  0, 17],\n",
       "       [16, 17,  8,  9,  0],\n",
       "       [10,  8,  4, 19, 16],\n",
       "       [ 4, 15, 11, 11,  1]])"
      ]
     },
     "execution_count": 4,
     "metadata": {},
     "output_type": "execute_result"
    }
   ],
   "source": [
    "np.random.seed(10)\n",
    "sales_amounts = np.random.randint(20, size = (4,5))\n",
    "sales_amounts"
   ]
  },
  {
   "cell_type": "code",
   "execution_count": 7,
   "id": "8830dcd0-86c2-41e1-9f64-44f70d36c1d8",
   "metadata": {},
   "outputs": [
    {
     "data": {
      "text/html": [
       "<div>\n",
       "<style scoped>\n",
       "    .dataframe tbody tr th:only-of-type {\n",
       "        vertical-align: middle;\n",
       "    }\n",
       "\n",
       "    .dataframe tbody tr th {\n",
       "        vertical-align: top;\n",
       "    }\n",
       "\n",
       "    .dataframe thead th {\n",
       "        text-align: right;\n",
       "    }\n",
       "</style>\n",
       "<table border=\"1\" class=\"dataframe\">\n",
       "  <thead>\n",
       "    <tr style=\"text-align: right;\">\n",
       "      <th></th>\n",
       "      <th>Mon</th>\n",
       "      <th>tues</th>\n",
       "      <th>Wed</th>\n",
       "      <th>Thurs</th>\n",
       "      <th>Fri</th>\n",
       "    </tr>\n",
       "  </thead>\n",
       "  <tbody>\n",
       "    <tr>\n",
       "      <th>almond</th>\n",
       "      <td>9</td>\n",
       "      <td>4</td>\n",
       "      <td>15</td>\n",
       "      <td>0</td>\n",
       "      <td>17</td>\n",
       "    </tr>\n",
       "    <tr>\n",
       "      <th>peanut</th>\n",
       "      <td>16</td>\n",
       "      <td>17</td>\n",
       "      <td>8</td>\n",
       "      <td>9</td>\n",
       "      <td>0</td>\n",
       "    </tr>\n",
       "    <tr>\n",
       "      <th>chasew</th>\n",
       "      <td>10</td>\n",
       "      <td>8</td>\n",
       "      <td>4</td>\n",
       "      <td>19</td>\n",
       "      <td>16</td>\n",
       "    </tr>\n",
       "    <tr>\n",
       "      <th>Jam</th>\n",
       "      <td>4</td>\n",
       "      <td>15</td>\n",
       "      <td>11</td>\n",
       "      <td>11</td>\n",
       "      <td>1</td>\n",
       "    </tr>\n",
       "  </tbody>\n",
       "</table>\n",
       "</div>"
      ],
      "text/plain": [
       "        Mon  tues  Wed  Thurs  Fri\n",
       "almond    9     4   15      0   17\n",
       "peanut   16    17    8      9    0\n",
       "chasew   10     8    4     19   16\n",
       "Jam       4    15   11     11    1"
      ]
     },
     "execution_count": 7,
     "metadata": {},
     "output_type": "execute_result"
    }
   ],
   "source": [
    "weekly_sales = pd.DataFrame(sales_amounts,\n",
    "                            columns=[\"Mon\",\"tues\",\"Wed\",\"Thurs\",\"Fri\"],\n",
    "                            index=[\"almond\",\"peanut\",\"chasew\",\"Jam\"])\n",
    "weekly_sales"
   ]
  },
  {
   "cell_type": "code",
   "execution_count": 11,
   "id": "730d4e07-44cb-4523-b1cf-aaf7360f7a0a",
   "metadata": {},
   "outputs": [
    {
     "data": {
      "text/html": [
       "<div>\n",
       "<style scoped>\n",
       "    .dataframe tbody tr th:only-of-type {\n",
       "        vertical-align: middle;\n",
       "    }\n",
       "\n",
       "    .dataframe tbody tr th {\n",
       "        vertical-align: top;\n",
       "    }\n",
       "\n",
       "    .dataframe thead th {\n",
       "        text-align: right;\n",
       "    }\n",
       "</style>\n",
       "<table border=\"1\" class=\"dataframe\">\n",
       "  <thead>\n",
       "    <tr style=\"text-align: right;\">\n",
       "      <th></th>\n",
       "      <th>price</th>\n",
       "    </tr>\n",
       "  </thead>\n",
       "  <tbody>\n",
       "    <tr>\n",
       "      <th>almond</th>\n",
       "      <td>10</td>\n",
       "    </tr>\n",
       "    <tr>\n",
       "      <th>peanut</th>\n",
       "      <td>8</td>\n",
       "    </tr>\n",
       "    <tr>\n",
       "      <th>chasew</th>\n",
       "      <td>12</td>\n",
       "    </tr>\n",
       "    <tr>\n",
       "      <th>Jam</th>\n",
       "      <td>11</td>\n",
       "    </tr>\n",
       "  </tbody>\n",
       "</table>\n",
       "</div>"
      ],
      "text/plain": [
       "        price\n",
       "almond     10\n",
       "peanut      8\n",
       "chasew     12\n",
       "Jam        11"
      ]
     },
     "execution_count": 11,
     "metadata": {},
     "output_type": "execute_result"
    }
   ],
   "source": [
    "butter_prices = pd.DataFrame([10,8,12,11],\n",
    "                             index = [\"almond\",\"peanut\",\"chasew\",\"Jam\"],\n",
    "                             columns = [\"price\"])\n",
    "butter_prices"
   ]
  },
  {
   "cell_type": "code",
   "execution_count": 12,
   "id": "71262171-702a-452e-afef-bcdb868f87c5",
   "metadata": {},
   "outputs": [
    {
     "data": {
      "text/plain": [
       "(4, 5)"
      ]
     },
     "execution_count": 12,
     "metadata": {},
     "output_type": "execute_result"
    }
   ],
   "source": [
    "weekly_sales.shape"
   ]
  },
  {
   "cell_type": "code",
   "execution_count": 14,
   "id": "2f835832-fce8-468e-912c-ad2b6d7da3ca",
   "metadata": {},
   "outputs": [
    {
     "data": {
      "text/plain": [
       "(4, 1)"
      ]
     },
     "execution_count": 14,
     "metadata": {},
     "output_type": "execute_result"
    }
   ],
   "source": [
    "butter_prices.shape"
   ]
  },
  {
   "cell_type": "code",
   "execution_count": 18,
   "id": "21d608b5-7dab-4b90-b5b8-05fc41f76bd9",
   "metadata": {},
   "outputs": [
    {
     "data": {
      "text/plain": [
       "array([[382],\n",
       "       [437],\n",
       "       [383],\n",
       "       [421],\n",
       "       [373]], dtype=int64)"
      ]
     },
     "execution_count": 18,
     "metadata": {},
     "output_type": "execute_result"
    }
   ],
   "source": [
    "total_sales = np.dot(weekly_sales.T,butter_prices)\n",
    "total_sales"
   ]
  },
  {
   "cell_type": "code",
   "execution_count": 16,
   "id": "bfc516e4-f7de-48e9-a667-84eef76d14d4",
   "metadata": {},
   "outputs": [
    {
     "data": {
      "text/html": [
       "<div>\n",
       "<style scoped>\n",
       "    .dataframe tbody tr th:only-of-type {\n",
       "        vertical-align: middle;\n",
       "    }\n",
       "\n",
       "    .dataframe tbody tr th {\n",
       "        vertical-align: top;\n",
       "    }\n",
       "\n",
       "    .dataframe thead th {\n",
       "        text-align: right;\n",
       "    }\n",
       "</style>\n",
       "<table border=\"1\" class=\"dataframe\">\n",
       "  <thead>\n",
       "    <tr style=\"text-align: right;\">\n",
       "      <th></th>\n",
       "      <th>almond</th>\n",
       "      <th>peanut</th>\n",
       "      <th>chasew</th>\n",
       "      <th>Jam</th>\n",
       "    </tr>\n",
       "  </thead>\n",
       "  <tbody>\n",
       "    <tr>\n",
       "      <th>Mon</th>\n",
       "      <td>9</td>\n",
       "      <td>16</td>\n",
       "      <td>10</td>\n",
       "      <td>4</td>\n",
       "    </tr>\n",
       "    <tr>\n",
       "      <th>tues</th>\n",
       "      <td>4</td>\n",
       "      <td>17</td>\n",
       "      <td>8</td>\n",
       "      <td>15</td>\n",
       "    </tr>\n",
       "    <tr>\n",
       "      <th>Wed</th>\n",
       "      <td>15</td>\n",
       "      <td>8</td>\n",
       "      <td>4</td>\n",
       "      <td>11</td>\n",
       "    </tr>\n",
       "    <tr>\n",
       "      <th>Thurs</th>\n",
       "      <td>0</td>\n",
       "      <td>9</td>\n",
       "      <td>19</td>\n",
       "      <td>11</td>\n",
       "    </tr>\n",
       "    <tr>\n",
       "      <th>Fri</th>\n",
       "      <td>17</td>\n",
       "      <td>0</td>\n",
       "      <td>16</td>\n",
       "      <td>1</td>\n",
       "    </tr>\n",
       "  </tbody>\n",
       "</table>\n",
       "</div>"
      ],
      "text/plain": [
       "       almond  peanut  chasew  Jam\n",
       "Mon         9      16      10    4\n",
       "tues        4      17       8   15\n",
       "Wed        15       8       4   11\n",
       "Thurs       0       9      19   11\n",
       "Fri        17       0      16    1"
      ]
     },
     "execution_count": 16,
     "metadata": {},
     "output_type": "execute_result"
    }
   ],
   "source": [
    "weekly_sales.T"
   ]
  },
  {
   "cell_type": "code",
   "execution_count": 25,
   "id": "460b2014-da5d-44be-a061-e4e5b8201328",
   "metadata": {},
   "outputs": [
    {
     "data": {
      "text/html": [
       "<div>\n",
       "<style scoped>\n",
       "    .dataframe tbody tr th:only-of-type {\n",
       "        vertical-align: middle;\n",
       "    }\n",
       "\n",
       "    .dataframe tbody tr th {\n",
       "        vertical-align: top;\n",
       "    }\n",
       "\n",
       "    .dataframe thead th {\n",
       "        text-align: right;\n",
       "    }\n",
       "</style>\n",
       "<table border=\"1\" class=\"dataframe\">\n",
       "  <thead>\n",
       "    <tr style=\"text-align: right;\">\n",
       "      <th></th>\n",
       "      <th>Mon</th>\n",
       "      <th>tues</th>\n",
       "      <th>Wed</th>\n",
       "      <th>Thurs</th>\n",
       "      <th>Fri</th>\n",
       "    </tr>\n",
       "  </thead>\n",
       "  <tbody>\n",
       "    <tr>\n",
       "      <th>almond</th>\n",
       "      <td>9</td>\n",
       "      <td>4</td>\n",
       "      <td>15</td>\n",
       "      <td>0</td>\n",
       "      <td>17</td>\n",
       "    </tr>\n",
       "    <tr>\n",
       "      <th>peanut</th>\n",
       "      <td>16</td>\n",
       "      <td>17</td>\n",
       "      <td>8</td>\n",
       "      <td>9</td>\n",
       "      <td>0</td>\n",
       "    </tr>\n",
       "    <tr>\n",
       "      <th>chasew</th>\n",
       "      <td>10</td>\n",
       "      <td>8</td>\n",
       "      <td>4</td>\n",
       "      <td>19</td>\n",
       "      <td>16</td>\n",
       "    </tr>\n",
       "    <tr>\n",
       "      <th>Jam</th>\n",
       "      <td>4</td>\n",
       "      <td>15</td>\n",
       "      <td>11</td>\n",
       "      <td>11</td>\n",
       "      <td>1</td>\n",
       "    </tr>\n",
       "    <tr>\n",
       "      <th>Total</th>\n",
       "      <td>382</td>\n",
       "      <td>437</td>\n",
       "      <td>383</td>\n",
       "      <td>421</td>\n",
       "      <td>373</td>\n",
       "    </tr>\n",
       "  </tbody>\n",
       "</table>\n",
       "</div>"
      ],
      "text/plain": [
       "        Mon  tues  Wed  Thurs  Fri\n",
       "almond    9     4   15      0   17\n",
       "peanut   16    17    8      9    0\n",
       "chasew   10     8    4     19   16\n",
       "Jam       4    15   11     11    1\n",
       "Total   382   437  383    421  373"
      ]
     },
     "execution_count": 25,
     "metadata": {},
     "output_type": "execute_result"
    }
   ],
   "source": [
    "final = weekly_sales.T\n",
    "final[\"Total\"] = total_sales\n",
    "final.T"
   ]
  },
  {
   "cell_type": "code",
   "execution_count": 23,
   "id": "535b5836-59f4-47b5-8210-1355a92dbee0",
   "metadata": {},
   "outputs": [
    {
     "data": {
      "text/html": [
       "<div>\n",
       "<style scoped>\n",
       "    .dataframe tbody tr th:only-of-type {\n",
       "        vertical-align: middle;\n",
       "    }\n",
       "\n",
       "    .dataframe tbody tr th {\n",
       "        vertical-align: top;\n",
       "    }\n",
       "\n",
       "    .dataframe thead th {\n",
       "        text-align: right;\n",
       "    }\n",
       "</style>\n",
       "<table border=\"1\" class=\"dataframe\">\n",
       "  <thead>\n",
       "    <tr style=\"text-align: right;\">\n",
       "      <th></th>\n",
       "      <th>almond</th>\n",
       "      <th>peanut</th>\n",
       "      <th>chasew</th>\n",
       "      <th>Jam</th>\n",
       "    </tr>\n",
       "  </thead>\n",
       "  <tbody>\n",
       "    <tr>\n",
       "      <th>Mon</th>\n",
       "      <td>9</td>\n",
       "      <td>16</td>\n",
       "      <td>10</td>\n",
       "      <td>4</td>\n",
       "    </tr>\n",
       "    <tr>\n",
       "      <th>tues</th>\n",
       "      <td>4</td>\n",
       "      <td>17</td>\n",
       "      <td>8</td>\n",
       "      <td>15</td>\n",
       "    </tr>\n",
       "    <tr>\n",
       "      <th>Wed</th>\n",
       "      <td>15</td>\n",
       "      <td>8</td>\n",
       "      <td>4</td>\n",
       "      <td>11</td>\n",
       "    </tr>\n",
       "    <tr>\n",
       "      <th>Thurs</th>\n",
       "      <td>0</td>\n",
       "      <td>9</td>\n",
       "      <td>19</td>\n",
       "      <td>11</td>\n",
       "    </tr>\n",
       "    <tr>\n",
       "      <th>Fri</th>\n",
       "      <td>17</td>\n",
       "      <td>0</td>\n",
       "      <td>16</td>\n",
       "      <td>1</td>\n",
       "    </tr>\n",
       "  </tbody>\n",
       "</table>\n",
       "</div>"
      ],
      "text/plain": [
       "       almond  peanut  chasew  Jam\n",
       "Mon         9      16      10    4\n",
       "tues        4      17       8   15\n",
       "Wed        15       8       4   11\n",
       "Thurs       0       9      19   11\n",
       "Fri        17       0      16    1"
      ]
     },
     "execution_count": 23,
     "metadata": {},
     "output_type": "execute_result"
    }
   ],
   "source": [
    "weekly_sales.T"
   ]
  },
  {
   "cell_type": "code",
   "execution_count": 33,
   "id": "558f0b69-b038-488a-a2aa-ab386cd3214c",
   "metadata": {},
   "outputs": [
    {
     "data": {
      "text/plain": [
       "array([[ True, False,  True],\n",
       "       [False, False,  True]])"
      ]
     },
     "execution_count": 33,
     "metadata": {},
     "output_type": "execute_result"
    }
   ],
   "source": [
    "a1 = np.random.randint(3,size=(1,3))\n",
    "a2 = np.random.randint(6,size=(2,3))\n",
    "a1 > a2"
   ]
  },
  {
   "cell_type": "code",
   "execution_count": 34,
   "id": "b7271b73-2ba8-45f0-9b40-47f884b079fc",
   "metadata": {},
   "outputs": [
    {
     "data": {
      "text/plain": [
       "(array([[2, 0, 2]]),\n",
       " array([[0, 3, 1],\n",
       "        [3, 4, 1]]))"
      ]
     },
     "execution_count": 34,
     "metadata": {},
     "output_type": "execute_result"
    }
   ],
   "source": [
    "a1,a2"
   ]
  },
  {
   "cell_type": "code",
   "execution_count": 36,
   "id": "464c6621-b383-4597-81fe-3da64bdee852",
   "metadata": {},
   "outputs": [
    {
     "data": {
      "text/plain": [
       "array([[12,  8, 10, 13, 11],\n",
       "       [ 1, 18, 13,  8,  9],\n",
       "       [ 5,  0, 18,  3, 16],\n",
       "       [18, 16, 14, 19, 15]])"
      ]
     },
     "execution_count": 36,
     "metadata": {},
     "output_type": "execute_result"
    }
   ],
   "source": [
    "a3 = np.random.randint(20,size = (4,5))\n",
    "a3"
   ]
  },
  {
   "cell_type": "code",
   "execution_count": 38,
   "id": "a504edde-2d60-4b22-8324-b55aef1fb7ca",
   "metadata": {},
   "outputs": [
    {
     "data": {
      "text/plain": [
       "array([[ 8, 10, 11, 12, 13],\n",
       "       [ 1,  8,  9, 13, 18],\n",
       "       [ 0,  3,  5, 16, 18],\n",
       "       [14, 15, 16, 18, 19]])"
      ]
     },
     "execution_count": 38,
     "metadata": {},
     "output_type": "execute_result"
    }
   ],
   "source": [
    "np.sort(a3)#sort in one row"
   ]
  },
  {
   "cell_type": "code",
   "execution_count": 42,
   "id": "c547662e-8c7d-4ad6-af1d-c0d6db964f81",
   "metadata": {},
   "outputs": [
    {
     "data": {
      "text/plain": [
       "array([[1, 2, 4, 0, 3],\n",
       "       [0, 3, 4, 2, 1],\n",
       "       [1, 3, 0, 4, 2],\n",
       "       [2, 4, 1, 0, 3]], dtype=int64)"
      ]
     },
     "execution_count": 42,
     "metadata": {},
     "output_type": "execute_result"
    }
   ],
   "source": [
    "np.argsort(a3)#memberi urutan dari yang terbesar hingga yang terkecil. dimana yang terbesar ditandai 0"
   ]
  },
  {
   "cell_type": "code",
   "execution_count": 44,
   "id": "c0e3656d-afed-44a8-859d-8ba6b68b070c",
   "metadata": {},
   "outputs": [
    {
     "data": {
      "text/plain": [
       "array([1, 2, 0, 2, 1], dtype=int64)"
      ]
     },
     "execution_count": 44,
     "metadata": {},
     "output_type": "execute_result"
    }
   ],
   "source": [
    "np.argmin(a3,axis=0)#menandai index dari angka terkecil pada setiap kolom"
   ]
  },
  {
   "cell_type": "code",
   "execution_count": 46,
   "id": "5af77e9a-1ba6-4703-9c23-321ccae87165",
   "metadata": {},
   "outputs": [
    {
     "data": {
      "text/plain": [
       "11"
      ]
     },
     "execution_count": 46,
     "metadata": {},
     "output_type": "execute_result"
    }
   ],
   "source": [
    "np.argmin(a3)#memberi index angka terkecil dihitung dari awal array"
   ]
  },
  {
   "cell_type": "code",
   "execution_count": 48,
   "id": "768edef6-e0ae-465a-80af-ca98fe1a8b87",
   "metadata": {},
   "outputs": [
    {
     "data": {
      "text/plain": [
       "array([3, 1, 2, 3], dtype=int64)"
      ]
     },
     "execution_count": 48,
     "metadata": {},
     "output_type": "execute_result"
    }
   ],
   "source": [
    "np.argmax(a3,axis=1)"
   ]
  },
  {
   "cell_type": "markdown",
   "id": "de066edb-7b78-4d4b-bc97-8b91350fdfed",
   "metadata": {},
   "source": [
    "<img src=\"panda.png\"/>"
   ]
  },
  {
   "cell_type": "markdown",
   "id": "b05e533c-8ac0-4e93-a9cd-229ad97d99c9",
   "metadata": {},
   "source": [
    "## turn image into numpy array"
   ]
  },
  {
   "cell_type": "code",
   "execution_count": 55,
   "id": "233a8371-dd02-4e53-878e-3f851647dcf9",
   "metadata": {},
   "outputs": [
    {
     "name": "stdout",
     "output_type": "stream",
     "text": [
      "<class 'numpy.ndarray'>\n"
     ]
    }
   ],
   "source": [
    "from matplotlib.image import imread\n",
    "\n",
    "panda = imread(\"panda.png\")\n",
    "print(type(panda))"
   ]
  },
  {
   "cell_type": "code",
   "execution_count": 56,
   "id": "ff09408e-593b-4fb2-b532-0b32d4ffb61b",
   "metadata": {},
   "outputs": [
    {
     "data": {
      "text/plain": [
       "array([[[0.05490196, 0.10588235, 0.06666667],\n",
       "        [0.05490196, 0.10588235, 0.06666667],\n",
       "        [0.05490196, 0.10588235, 0.06666667],\n",
       "        ...,\n",
       "        [0.16470589, 0.12941177, 0.09411765],\n",
       "        [0.16470589, 0.12941177, 0.09411765],\n",
       "        [0.16470589, 0.12941177, 0.09411765]],\n",
       "\n",
       "       [[0.05490196, 0.10588235, 0.06666667],\n",
       "        [0.05490196, 0.10588235, 0.06666667],\n",
       "        [0.05490196, 0.10588235, 0.06666667],\n",
       "        ...,\n",
       "        [0.16470589, 0.12941177, 0.09411765],\n",
       "        [0.16470589, 0.12941177, 0.09411765],\n",
       "        [0.16470589, 0.12941177, 0.09411765]],\n",
       "\n",
       "       [[0.05490196, 0.10588235, 0.06666667],\n",
       "        [0.05490196, 0.10588235, 0.06666667],\n",
       "        [0.05490196, 0.10588235, 0.06666667],\n",
       "        ...,\n",
       "        [0.16470589, 0.12941177, 0.09411765],\n",
       "        [0.16470589, 0.12941177, 0.09411765],\n",
       "        [0.16470589, 0.12941177, 0.09411765]],\n",
       "\n",
       "       ...,\n",
       "\n",
       "       [[0.13333334, 0.07450981, 0.05490196],\n",
       "        [0.12156863, 0.0627451 , 0.04313726],\n",
       "        [0.10980392, 0.05098039, 0.03137255],\n",
       "        ...,\n",
       "        [0.02745098, 0.02745098, 0.03529412],\n",
       "        [0.02745098, 0.02745098, 0.03529412],\n",
       "        [0.02745098, 0.02745098, 0.03529412]],\n",
       "\n",
       "       [[0.13333334, 0.07450981, 0.05490196],\n",
       "        [0.12156863, 0.0627451 , 0.04313726],\n",
       "        [0.12156863, 0.0627451 , 0.04313726],\n",
       "        ...,\n",
       "        [0.02352941, 0.02352941, 0.03137255],\n",
       "        [0.02352941, 0.02352941, 0.03137255],\n",
       "        [0.02352941, 0.02352941, 0.03137255]],\n",
       "\n",
       "       [[0.13333334, 0.07450981, 0.05490196],\n",
       "        [0.12156863, 0.0627451 , 0.04313726],\n",
       "        [0.12156863, 0.0627451 , 0.04313726],\n",
       "        ...,\n",
       "        [0.02352941, 0.02352941, 0.03137255],\n",
       "        [0.02352941, 0.02352941, 0.03137255],\n",
       "        [0.02352941, 0.02352941, 0.03137255]]], dtype=float32)"
      ]
     },
     "execution_count": 56,
     "metadata": {},
     "output_type": "execute_result"
    }
   ],
   "source": [
    "panda"
   ]
  },
  {
   "cell_type": "code",
   "execution_count": 57,
   "id": "340c30ce-5d89-4582-ae5c-ec10214b7844",
   "metadata": {},
   "outputs": [
    {
     "data": {
      "text/plain": [
       "(24465000, (2330, 3500, 3), 3)"
      ]
     },
     "execution_count": 57,
     "metadata": {},
     "output_type": "execute_result"
    }
   ],
   "source": [
    "panda.size, panda.shape, panda.ndim"
   ]
  },
  {
   "cell_type": "code",
   "execution_count": 58,
   "id": "7ba18629-e6c6-4ccf-aecb-2124bcdb2a8b",
   "metadata": {},
   "outputs": [],
   "source": [
    "car = imread(\"car-photo.png\")"
   ]
  },
  {
   "cell_type": "code",
   "execution_count": 59,
   "id": "824344db-2e70-4f48-95eb-d92dc81ce762",
   "metadata": {},
   "outputs": [
    {
     "data": {
      "text/plain": [
       "(991300, (431, 575, 4), 3)"
      ]
     },
     "execution_count": 59,
     "metadata": {},
     "output_type": "execute_result"
    }
   ],
   "source": [
    "car.size, car.shape, car.ndim"
   ]
  },
  {
   "cell_type": "code",
   "execution_count": 60,
   "id": "dca5ced6-e605-44d7-9de0-8bb96951454a",
   "metadata": {},
   "outputs": [],
   "source": [
    "puppy = imread(\"dog-photo.png\")"
   ]
  },
  {
   "cell_type": "code",
   "execution_count": 61,
   "id": "c896b019-48f8-40c0-95a5-7b44ec3f5ae9",
   "metadata": {},
   "outputs": [
    {
     "data": {
      "text/plain": [
       "(993600, (432, 575, 4), 3)"
      ]
     },
     "execution_count": 61,
     "metadata": {},
     "output_type": "execute_result"
    }
   ],
   "source": [
    "puppy.size, puppy.shape, puppy.ndim"
   ]
  },
  {
   "cell_type": "code",
   "execution_count": null,
   "id": "2226dee4-57f2-4e4a-ac52-7b958cf242e2",
   "metadata": {},
   "outputs": [],
   "source": []
  }
 ],
 "metadata": {
  "kernelspec": {
   "display_name": "Python 3 (ipykernel)",
   "language": "python",
   "name": "python3"
  },
  "language_info": {
   "codemirror_mode": {
    "name": "ipython",
    "version": 3
   },
   "file_extension": ".py",
   "mimetype": "text/x-python",
   "name": "python",
   "nbconvert_exporter": "python",
   "pygments_lexer": "ipython3",
   "version": "3.10.4"
  }
 },
 "nbformat": 4,
 "nbformat_minor": 5
}
